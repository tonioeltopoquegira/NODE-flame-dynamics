{
 "cells": [
  {
   "cell_type": "code",
   "execution_count": null,
   "metadata": {},
   "outputs": [],
   "source": [
    "from experiment import run_experiment"
   ]
  },
  {
   "cell_type": "code",
   "execution_count": null,
   "metadata": {},
   "outputs": [],
   "source": [
    "run = {\n",
    "    # Dictionaries and other stuff\n",
    "    'save_dict': False,\n",
    "    'dict': 'runs_report.xlsx',\n",
    "    'from_scratch' : True,\n",
    "\n",
    "    # Data preprocessing\n",
    "    'amplitudes': ['050'],\n",
    "    'seq_size': 500,\n",
    "    'train_percentage': 0.9,\n",
    "    'input_downsample_factor': 3,\n",
    "    'downsampling_strat': 'uniform',\n",
    "    'interpolator': 'linear', #     (*)\n",
    "\n",
    "    # Model\n",
    "    'model_name' : 'mlp_linear',\n",
    "    'model': 'mlp',\n",
    "    'integ_strat': 'fixed-grid', # ['fixed-grid', 'adaptive']   (*)\n",
    "    'integ_method': 'rk4', # ['euler', 'rk4']   (*)\n",
    "    'deriv_model': 'mlp', # [ 'mlp' ]   (*)\n",
    "    'hidd_sizes': [1],\n",
    "    'nonlinearity': 'tanh', # ['tanh', 'relu', 'sigmoid', 'softplus', 'elu', 'selu', 'swish']\n",
    "    'time-dep':'none', # ['time-att', 'time-branch']\n",
    "    'time_hidd_sizes': [1,3,1],\n",
    "    'initializer': 'xavier',\n",
    "\n",
    "    # Training\n",
    "    'epochs': 600,\n",
    "    'batch_size': 3000, # (**)\n",
    "    'learning_rate': 0.001,\n",
    "}\n",
    "\n"
   ]
  },
  {
   "cell_type": "code",
   "execution_count": null,
   "metadata": {},
   "outputs": [],
   "source": [
    "# (1) stick all of them together in validation, restore model params and .apply(params, model). \n",
    "# (2) Take difference with output and prediction and show it for a limited sequence. \n",
    "# (3) Compute ffts of output and compare with time series of acoustics, fft of acoustics and high selected frequencies acoustics (entropy + energy)\n",
    "# (4) Regression ??? Sindy ??"
   ]
  }
 ],
 "metadata": {
  "language_info": {
   "name": "python"
  }
 },
 "nbformat": 4,
 "nbformat_minor": 2
}
